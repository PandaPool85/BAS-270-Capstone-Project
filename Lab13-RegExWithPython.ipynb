{
 "cells": [
  {
   "cell_type": "markdown",
   "metadata": {},
   "source": [
    "# Lab13 - Using RegEx (re) with Python"
   ]
  },
  {
   "cell_type": "markdown",
   "metadata": {},
   "source": [
    "### Author: <font color='red'> Brian Adams </font>"
   ]
  },
  {
   "cell_type": "markdown",
   "metadata": {},
   "source": [
    "<div class=\"alert alert-block alert-warning\">\n",
    "<b>ATTENTION:</b> This lab corresponds to the YouTube video: \n",
    "    \n",
    "<em>Python Tutorial: re Module - How to Write and Match Regular Expressions (Regex) by Corey Schafer (Oct 24, 2017)</em><br>\n",
    "    <b>Watch this YouTube video and complete the code to complete the Lab.<b><br><br>\n",
    "    <b>URL: https://youtu.be/K8L6KVGG-7o </b>\n",
    "</div>"
   ]
  },
  {
   "cell_type": "markdown",
   "metadata": {},
   "source": [
    "## URL: https://youtu.be/K8L6KVGG-7o "
   ]
  },
  {
   "cell_type": "markdown",
   "metadata": {},
   "source": [
    "## Lab 13 \n",
    "#### 10 Questions @ 2 points each = 20 points\n",
    "#### Part A, B, C & D @ 4 points each part = 80 points"
   ]
  },
  {
   "cell_type": "code",
   "execution_count": 1,
   "metadata": {},
   "outputs": [],
   "source": [
    "# Import statements\n",
    "import re"
   ]
  },
  {
   "cell_type": "code",
   "execution_count": 2,
   "metadata": {},
   "outputs": [],
   "source": [
    "# Character strings \n",
    "text_to_search = '''\n",
    "abcdefghijklmnopqrstuvwxyz\n",
    "ABCDEFGHIJKLMNOPQRSTUVWXYZ\n",
    "1234567890\n",
    "\n",
    "Ha HaHa\n",
    "\n",
    "MetaCharacters (Need to be escaped):\n",
    ". ^ $ * + ? { } [ ] \\ | ( )\n",
    "\n",
    "coreyms.com\n",
    "\n",
    "321-555-4321\n",
    "123.555.1234\n",
    "\n",
    "Mr. Schafer\n",
    "Mr Smith\n",
    "Ms. Davis\n",
    "Mrs. Robinson\n",
    "Mr. T\n",
    "'''"
   ]
  },
  {
   "cell_type": "markdown",
   "metadata": {},
   "source": [
    "Python __raw string__ is created by prefixing a string literal with ‘r’ or ‘R’. Python raw string treats backslash (\\) as a literal character. This is useful when we want to have a string that contains backslash and don’t want it to be treated as an escape character. \n",
    "\n",
    "[Ref: https://www.journaldev.com/23598/python-raw-string ]"
   ]
  },
  {
   "cell_type": "code",
   "execution_count": 4,
   "metadata": {},
   "outputs": [
    {
     "name": "stdout",
     "output_type": "stream",
     "text": [
      "\tTab\n"
     ]
    }
   ],
   "source": [
    "# Print string '\\tTab' \n",
    "\n",
    "### INSERT CODE HERE ###\n",
    "print('\\tTab')"
   ]
  },
  {
   "cell_type": "code",
   "execution_count": 6,
   "metadata": {},
   "outputs": [
    {
     "name": "stdout",
     "output_type": "stream",
     "text": [
      "\\tTab\n"
     ]
    }
   ],
   "source": [
    "# Print RAW string '\\tTab'\n",
    "\n",
    "### INSERT CODE HERE ###\n",
    "print(r'\\tTab')"
   ]
  },
  {
   "cell_type": "markdown",
   "metadata": {},
   "source": [
    "## Part A - RegEx Intro (52 points)"
   ]
  },
  {
   "cell_type": "markdown",
   "metadata": {},
   "source": [
    "__Compiling Regular Expressions__\n",
    "\n",
    "Regular expressions are compiled into pattern objects, which have methods for various operations such as searching for pattern matches or performing string substitutions. \n",
    "\n",
    "[Ref: https://docs.python.org/3/howto/regex.html ]"
   ]
  },
  {
   "cell_type": "code",
   "execution_count": 7,
   "metadata": {},
   "outputs": [
    {
     "name": "stdout",
     "output_type": "stream",
     "text": [
      "<re.Match object; span=(1, 4), match='abc'>\n"
     ]
    }
   ],
   "source": [
    "# Define pattern for re.compile() to search text for pattern 'abc'\n",
    "### INSERT CODE HERE ###\n",
    "pattern = re.compile(r'abc')\n",
    "\n",
    "# Search text_to_search for the pattern using finditer() and save value(s) in matches \n",
    "### INSERT CODE HERE ###\n",
    "matches = pattern.finditer(text_to_search)\n",
    "\n",
    "# Print all the matches\n",
    "### INSERT CODE HERE ###\n",
    "for match in matches:\n",
    "    print(match)"
   ]
  },
  {
   "cell_type": "markdown",
   "metadata": {},
   "source": [
    "<font color='blue'> <strong>QUESTION 1: </strong> What is the beginning and ending index of the match? </font>"
   ]
  },
  {
   "cell_type": "markdown",
   "metadata": {},
   "source": [
    "<font color='red'> <strong>ANSWER 1: </strong> ### INSERT ANSWER HERE ### </font>\n",
    "\n",
    "it is the indexes within our text to search variable where abc matched (indexes 1 to 4)"
   ]
  },
  {
   "cell_type": "code",
   "execution_count": 8,
   "metadata": {},
   "outputs": [
    {
     "name": "stdout",
     "output_type": "stream",
     "text": [
      "abc\n"
     ]
    }
   ],
   "source": [
    "# Use Python slicing to print the text that matched\n",
    "### INSERT CODE HERE ###\n",
    "print(text_to_search[1:4])"
   ]
  },
  {
   "cell_type": "markdown",
   "metadata": {},
   "source": [
    "__Python Regex Metacharacters__\n",
    "\n",
    "Metacharacters are considered as the building blocks of regular expressions. Regular expressions are patterns used to match character combinations in the strings. Metacharacter has special meaning in finding patterns and are mostly used to define the search criteria and any text manipulations.\n",
    "[Ref: https://www.geeksforgeeks.org/python-regex-metacharacters/ ]"
   ]
  },
  {
   "cell_type": "code",
   "execution_count": 10,
   "metadata": {},
   "outputs": [
    {
     "name": "stdout",
     "output_type": "stream",
     "text": [
      "<re.Match object; span=(113, 114), match='.'>\n",
      "<re.Match object; span=(149, 150), match='.'>\n",
      "<re.Match object; span=(171, 172), match='.'>\n",
      "<re.Match object; span=(175, 176), match='.'>\n",
      "<re.Match object; span=(184, 185), match='.'>\n",
      "<re.Match object; span=(205, 206), match='.'>\n",
      "<re.Match object; span=(216, 217), match='.'>\n",
      "<re.Match object; span=(229, 230), match='.'>\n"
     ]
    }
   ],
   "source": [
    "# Re-define pattern for re.compile() to search for pattern with metacharacter '.'\n",
    "# NOTE: You will need to copy & paste the code from above for matches & printing them\n",
    "### INSERT CODE HERE ###\n",
    "pattern = re.compile(r'\\.')\n",
    "\n",
    "# Search text_to_search for the pattern using finditer() and save value(s) in matches \n",
    "### INSERT CODE HERE ###\n",
    "matches = pattern.finditer(text_to_search)\n",
    "\n",
    "# Print all the matches\n",
    "### INSERT CODE HERE ###\n",
    "for match in matches:\n",
    "    print(match)"
   ]
  },
  {
   "cell_type": "markdown",
   "metadata": {},
   "source": [
    "<font color='blue'> <strong>QUESTION 2</strong> - How many matches did you get?</font>"
   ]
  },
  {
   "cell_type": "markdown",
   "metadata": {},
   "source": [
    "<font color='red'> <strong>ANSWER 2</strong>### INSERT ANSWER HERE ###</font>\n",
    "\n",
    "we get 8 matches"
   ]
  },
  {
   "cell_type": "code",
   "execution_count": 11,
   "metadata": {},
   "outputs": [
    {
     "name": "stdout",
     "output_type": "stream",
     "text": [
      "<re.Match object; span=(142, 153), match='coreyms.com'>\n"
     ]
    }
   ],
   "source": [
    "# Re-define pattern for re.compile() to search for 'coreyms.com' \n",
    "# Remember to handle the metacharacter(s)\n",
    "### INSERT CODE HERE ###\n",
    "pattern = re.compile(r'coreyms\\.com')\n",
    "\n",
    "# Search text_to_search for the pattern using finditer() and save value(s) in matches \n",
    "### INSERT CODE HERE ###\n",
    "matches = pattern.finditer(text_to_search)\n",
    "\n",
    "# Print all the matches\n",
    "### INSERT CODE HERE ###\n",
    "for match in matches:\n",
    "    print(match)"
   ]
  },
  {
   "cell_type": "markdown",
   "metadata": {},
   "source": [
    "<div class=\"alert alert-block alert-info\">\n",
    "    <b>NOTE:</b> The <strong>snippets.txt</strong> file has been provided for you if you'd like to view it during the lab. This file should be located in your current directory (the same directory that contains your Jupyter notebook file for this lab). </div>"
   ]
  },
  {
   "cell_type": "markdown",
   "metadata": {},
   "source": [
    "<font color='blue'> <strong>QUESTION 3: </strong> - Using the snippets.txt file, what do the \"backslash-Capital letter\" patterns match? (\\D, \\W, \\S, \\B) </font>"
   ]
  },
  {
   "cell_type": "markdown",
   "metadata": {},
   "source": [
    "<font color='red'> <strong>ANSWER 3:</strong>### INSERT ANSWERS HERE ### </font>\n",
    "\n",
    "* \\D Not a digit (0-9)\n",
    "* \\W Not a Word Character\n",
    "* \\S Not Whitespace (space, tab, newline)\n",
    "* \\B Not a word boundary"
   ]
  },
  {
   "cell_type": "code",
   "execution_count": 12,
   "metadata": {},
   "outputs": [
    {
     "name": "stdout",
     "output_type": "stream",
     "text": [
      "<re.Match object; span=(67, 69), match='Ha'>\n",
      "<re.Match object; span=(70, 72), match='Ha'>\n"
     ]
    }
   ],
   "source": [
    "# Re-define pattern for re.compile() to search for 'Ha' values with a leading word boundary\n",
    "# Remember to handle the metacharacter(s)\n",
    "### INSERT CODE HERE ###\n",
    "pattern = re.compile(r'\\bHa')\n",
    "\n",
    "# Search text_to_search for the pattern using finditer() and save value(s) in matches \n",
    "### INSERT CODE HERE ###\n",
    "matches = pattern.finditer(text_to_search)\n",
    "\n",
    "# Print all the matches\n",
    "### INSERT CODE HERE ###\n",
    "for match in matches:\n",
    "    print(match)"
   ]
  },
  {
   "cell_type": "markdown",
   "metadata": {},
   "source": [
    "__Anchors__\n",
    "\n",
    "Anchors are regex tokens that don't match any characters but that say or assert something about the string or the matching process. Anchors inform us that the engine's current position in the string matches a determined location: for example, the beginning of the string/line, or the end of a string/line.\n",
    "\n",
    "This type of assertion is useful for  many reasons. First, it lets you specify that you want to match alphabets/digits at the beginning/end of a string/line, but not anywhere else. Second, when you tell the engine that you want to find a pattern at a certain location, it  need not find that pattern at any other locations. This is why  it is recommended to use anchors whenever possible.\n",
    "\n",
    "__^ and $ are two examples of  anchor tokens in regex.__\n",
    "\n",
    "[Ref: https://www.tutorialspoint.com/How-regular-expression-anchors-work-in-Python#:~:text=Anchors%20are%20regex%20tokens%20that,end%20of%20a%20string%2Fline.]"
   ]
  },
  {
   "cell_type": "code",
   "execution_count": 14,
   "metadata": {},
   "outputs": [
    {
     "name": "stdout",
     "output_type": "stream",
     "text": [
      "<re.Match object; span=(41, 44), match='end'>\n"
     ]
    }
   ],
   "source": [
    "# Using the sentence variable (redefined here for clarity)\n",
    "sentence = 'Start a sentence and then bring it to an end'\n",
    "\n",
    "# Re-define pattern for re.compile() to search for 'end' using the \"End of a String\" anchor\n",
    "# Rememeber to change text string you are searching!\n",
    "### INSERT CODE HERE ###\n",
    "pattern = re.compile(r'end$')\n",
    "\n",
    "# Search text_to_search for the pattern using finditer() and save value(s) in matches \n",
    "### INSERT CODE HERE ###\n",
    "matches = pattern.finditer(sentence)\n",
    "\n",
    "# Print all the matches\n",
    "### INSERT CODE HERE ###\n",
    "for match in matches:\n",
    "    print(match)"
   ]
  },
  {
   "cell_type": "markdown",
   "metadata": {},
   "source": [
    "__Matching Phone Numbers__ using a simple pattern"
   ]
  },
  {
   "cell_type": "code",
   "execution_count": 15,
   "metadata": {},
   "outputs": [
    {
     "name": "stdout",
     "output_type": "stream",
     "text": [
      "<re.Match object; span=(155, 167), match='321-555-4321'>\n",
      "<re.Match object; span=(168, 180), match='123.555.1234'>\n"
     ]
    }
   ],
   "source": [
    "# Re-define pattern for re.compile() to match both phone numbers in \"text_to_search\" string\n",
    "# Remember to change text string you are searching!\n",
    "### INSERT CODE HERE ###\n",
    "pattern = re.compile(r'\\d\\d\\d.\\d\\d\\d.\\d\\d\\d\\d')\n",
    "\n",
    "# Search text_to_search for the pattern using finditer() and save value(s) in matches \n",
    "### INSERT CODE HERE ###\n",
    "matches = pattern.finditer(text_to_search)\n",
    "\n",
    "# Print all the matches\n",
    "### INSERT CODE HERE ###\n",
    "for match in matches:\n",
    "    print(match)"
   ]
  },
  {
   "cell_type": "markdown",
   "metadata": {},
   "source": [
    "<div class=\"alert alert-block alert-info\">\n",
    "    <b>NOTE:</b> The <strong>data.txt</strong> file has been provided for you. This file should be located in your current directory (the same directory that contains your Jupyter notebook file for this lab). </div>"
   ]
  },
  {
   "cell_type": "code",
   "execution_count": 30,
   "metadata": {},
   "outputs": [
    {
     "name": "stdout",
     "output_type": "stream",
     "text": [
      "<re.Match object; span=(12, 24), match='615-555-7164'>\n",
      "1\n",
      "<re.Match object; span=(102, 114), match='800-555-5669'>\n",
      "2\n",
      "<re.Match object; span=(191, 203), match='560-555-5153'>\n",
      "3\n",
      "<re.Match object; span=(281, 293), match='900-555-9340'>\n",
      "4\n",
      "<re.Match object; span=(378, 390), match='714-555-7405'>\n",
      "5\n",
      "<re.Match object; span=(467, 479), match='800-555-6771'>\n",
      "6\n",
      "<re.Match object; span=(557, 569), match='783-555-4799'>\n",
      "7\n",
      "<re.Match object; span=(647, 659), match='516-555-4615'>\n",
      "8\n",
      "<re.Match object; span=(740, 752), match='127-555-1867'>\n",
      "9\n",
      "<re.Match object; span=(829, 841), match='608-555-4938'>\n",
      "10\n",
      "<re.Match object; span=(915, 927), match='568-555-6051'>\n",
      "11\n",
      "<re.Match object; span=(1003, 1015), match='292-555-1875'>\n",
      "12\n",
      "<re.Match object; span=(1091, 1103), match='900-555-3205'>\n",
      "13\n",
      "<re.Match object; span=(1180, 1192), match='614-555-1166'>\n",
      "14\n",
      "<re.Match object; span=(1269, 1281), match='530-555-2676'>\n",
      "15\n",
      "<re.Match object; span=(1355, 1367), match='470-555-2750'>\n",
      "16\n",
      "<re.Match object; span=(1439, 1451), match='800-555-6089'>\n",
      "17\n",
      "<re.Match object; span=(1526, 1538), match='880-555-8319'>\n",
      "18\n",
      "<re.Match object; span=(1614, 1626), match='777-555-8378'>\n",
      "19\n",
      "<re.Match object; span=(1697, 1709), match='998-555-7385'>\n",
      "20\n",
      "<re.Match object; span=(1790, 1802), match='800-555-7100'>\n",
      "21\n",
      "<re.Match object; span=(1874, 1886), match='903-555-8277'>\n",
      "22\n",
      "<re.Match object; span=(1962, 1974), match='196-555-5674'>\n",
      "23\n",
      "<re.Match object; span=(2051, 2063), match='900-555-5118'>\n",
      "24\n",
      "<re.Match object; span=(2135, 2147), match='905-555-1630'>\n",
      "25\n",
      "<re.Match object; span=(2216, 2228), match='203-555-3475'>\n",
      "26\n",
      "<re.Match object; span=(2300, 2312), match='884-555-8444'>\n",
      "27\n",
      "<re.Match object; span=(2387, 2399), match='904-555-8559'>\n",
      "28\n",
      "<re.Match object; span=(2475, 2487), match='889-555-7393'>\n",
      "29\n",
      "<re.Match object; span=(2562, 2574), match='195-555-2405'>\n",
      "30\n",
      "<re.Match object; span=(2647, 2659), match='321-555-9053'>\n",
      "31\n",
      "<re.Match object; span=(2734, 2746), match='133-555-1711'>\n",
      "32\n",
      "<re.Match object; span=(2826, 2838), match='900-555-5428'>\n",
      "33\n",
      "<re.Match object; span=(2915, 2927), match='760-555-7147'>\n",
      "34\n",
      "<re.Match object; span=(3012, 3024), match='391-555-6621'>\n",
      "35\n",
      "<re.Match object; span=(3103, 3115), match='932-555-7724'>\n",
      "36\n",
      "<re.Match object; span=(3192, 3204), match='609-555-7908'>\n",
      "37\n",
      "<re.Match object; span=(3284, 3296), match='800-555-8810'>\n",
      "38\n",
      "<re.Match object; span=(3372, 3384), match='149-555-7657'>\n",
      "39\n",
      "<re.Match object; span=(3452, 3464), match='130-555-9709'>\n",
      "40\n",
      "<re.Match object; span=(3535, 3547), match='143-555-9295'>\n",
      "41\n",
      "<re.Match object; span=(3624, 3636), match='903-555-9878'>\n",
      "42\n",
      "<re.Match object; span=(3714, 3726), match='574-555-3194'>\n",
      "43\n",
      "<re.Match object; span=(3802, 3814), match='496-555-7533'>\n",
      "44\n",
      "<re.Match object; span=(3887, 3899), match='210-555-3757'>\n",
      "45\n",
      "<re.Match object; span=(3971, 3983), match='900-555-9598'>\n",
      "46\n",
      "<re.Match object; span=(4056, 4068), match='866-555-9844'>\n",
      "47\n",
      "<re.Match object; span=(4140, 4152), match='669-555-7159'>\n",
      "48\n",
      "<re.Match object; span=(4225, 4237), match='152-555-7417'>\n",
      "49\n",
      "<re.Match object; span=(4317, 4329), match='893-555-9832'>\n",
      "50\n",
      "<re.Match object; span=(4407, 4419), match='217-555-7123'>\n",
      "51\n",
      "<re.Match object; span=(4498, 4510), match='786-555-6544'>\n",
      "52\n",
      "<re.Match object; span=(4588, 4600), match='780-555-2574'>\n",
      "53\n",
      "<re.Match object; span=(4676, 4688), match='926-555-8735'>\n",
      "54\n",
      "<re.Match object; span=(4762, 4774), match='895-555-3539'>\n",
      "55\n",
      "<re.Match object; span=(4859, 4871), match='874-555-3949'>\n",
      "56\n",
      "<re.Match object; span=(4945, 4957), match='800-555-2420'>\n",
      "57\n",
      "<re.Match object; span=(5034, 5046), match='936-555-6340'>\n",
      "58\n",
      "<re.Match object; span=(5123, 5135), match='372-555-9809'>\n",
      "59\n",
      "<re.Match object; span=(5210, 5222), match='890-555-5618'>\n",
      "60\n",
      "<re.Match object; span=(5292, 5304), match='670-555-3005'>\n",
      "61\n",
      "<re.Match object; span=(5382, 5394), match='509-555-5997'>\n",
      "62\n",
      "<re.Match object; span=(5475, 5487), match='721-555-5632'>\n",
      "63\n",
      "<re.Match object; span=(5566, 5578), match='900-555-3567'>\n",
      "64\n",
      "<re.Match object; span=(5656, 5668), match='147-555-6830'>\n",
      "65\n",
      "<re.Match object; span=(5745, 5757), match='582-555-3426'>\n",
      "66\n",
      "<re.Match object; span=(5830, 5842), match='400-555-1706'>\n",
      "67\n",
      "<re.Match object; span=(5921, 5933), match='525-555-1793'>\n",
      "68\n",
      "<re.Match object; span=(6011, 6023), match='317-555-6700'>\n",
      "69\n",
      "<re.Match object; span=(6099, 6111), match='974-555-8301'>\n",
      "70\n",
      "<re.Match object; span=(6189, 6201), match='800-555-3216'>\n",
      "71\n",
      "<re.Match object; span=(6273, 6285), match='746-555-4094'>\n",
      "72\n",
      "<re.Match object; span=(6360, 6372), match='922-555-1773'>\n",
      "73\n",
      "<re.Match object; span=(6445, 6457), match='711-555-4427'>\n",
      "74\n",
      "<re.Match object; span=(6530, 6542), match='355-555-1872'>\n",
      "75\n",
      "<re.Match object; span=(6619, 6631), match='852-555-6521'>\n",
      "76\n",
      "<re.Match object; span=(6711, 6723), match='691-555-5773'>\n",
      "77\n",
      "<re.Match object; span=(6803, 6815), match='332-555-5441'>\n",
      "78\n",
      "<re.Match object; span=(6889, 6901), match='900-555-7755'>\n",
      "79\n",
      "<re.Match object; span=(6971, 6983), match='379-555-3685'>\n",
      "80\n",
      "<re.Match object; span=(7061, 7073), match='127-555-9682'>\n",
      "81\n",
      "<re.Match object; span=(7152, 7164), match='789-555-7032'>\n",
      "82\n",
      "<re.Match object; span=(7243, 7255), match='783-555-5135'>\n",
      "83\n",
      "<re.Match object; span=(7336, 7348), match='315-555-6507'>\n",
      "84\n",
      "<re.Match object; span=(7427, 7439), match='481-555-5835'>\n",
      "85\n",
      "<re.Match object; span=(7515, 7527), match='365-555-8287'>\n",
      "86\n",
      "<re.Match object; span=(7607, 7619), match='911-555-7535'>\n",
      "87\n",
      "<re.Match object; span=(7693, 7705), match='681-555-2460'>\n",
      "88\n",
      "<re.Match object; span=(7779, 7791), match='274-555-9800'>\n",
      "89\n",
      "<re.Match object; span=(7864, 7876), match='800-555-1372'>\n",
      "90\n",
      "<re.Match object; span=(7953, 7965), match='300-555-7821'>\n",
      "91\n",
      "<re.Match object; span=(8043, 8055), match='133-555-3889'>\n",
      "92\n",
      "<re.Match object; span=(8129, 8141), match='705-555-6863'>\n",
      "93\n",
      "<re.Match object; span=(8218, 8230), match='215-555-9449'>\n",
      "94\n",
      "<re.Match object; span=(8309, 8321), match='988-555-6112'>\n",
      "95\n",
      "<re.Match object; span=(8395, 8407), match='623-555-3006'>\n",
      "96\n",
      "<re.Match object; span=(8479, 8491), match='192-555-4977'>\n",
      "97\n",
      "<re.Match object; span=(8564, 8576), match='178-555-4899'>\n",
      "98\n",
      "<re.Match object; span=(8648, 8660), match='952-555-3089'>\n",
      "99\n",
      "<re.Match object; span=(8741, 8753), match='900-555-6426'>\n",
      "100\n"
     ]
    }
   ],
   "source": [
    "# Using the pattern created in the previous step (to match phone numbers) ...\n",
    "### INSERT CODE HERE ###\n",
    "pattern = re.compile(r'\\d\\d\\d.\\d\\d\\d.\\d\\d\\d\\d')\n",
    "\n",
    "# Open and read the contents of the \"data.txt\" file, search for phone numbers,\n",
    "# and print the matches. \n",
    "# NOTE: You might want to count the number of matches \n",
    "          \n",
    "### INSERT CODE HERE ###\n",
    "with open('data.txt', 'r') as f:\n",
    "          contents = f.read()\n",
    "          \n",
    "          matches = pattern.finditer(contents)\n",
    "        \n",
    "          count = 0  \n",
    "          for match in matches:\n",
    "            print(match)\n",
    "            count+=1\n",
    "            print(count)"
   ]
  },
  {
   "cell_type": "markdown",
   "metadata": {},
   "source": [
    "<font color='blue'> <strong>QUESTION 4: </strong> How many phone numbers were found? <strong>HINT:</strong> Add a counter to print loop above to make this easier :-) </font>"
   ]
  },
  {
   "cell_type": "markdown",
   "metadata": {},
   "source": [
    "<font color='red'> <strong>ANSWER 4: </strong>### INSERT ANSWER HERE ###</font>\n",
    "\n",
    "100"
   ]
  },
  {
   "cell_type": "markdown",
   "metadata": {},
   "source": [
    "__Matching Phone Numbers__ only if they have '-' or '.'"
   ]
  },
  {
   "cell_type": "code",
   "execution_count": 31,
   "metadata": {},
   "outputs": [],
   "source": [
    "# Character strings (UPDATED WITH INVALID PHONE NUMBER STRING)\n",
    "text_to_search = '''\n",
    "abcdefghijklmnopqrstuvwxyz\n",
    "ABCDEFGHIJKLMNOPQRSTUVWXYZ\n",
    "1234567890\n",
    "\n",
    "Ha HaHa\n",
    "\n",
    "MetaCharacters (Need to be escaped):\n",
    ". ^ $ * + ? { } [ ] \\ | ( )\n",
    "\n",
    "coreyms.com\n",
    "\n",
    "321-555-4321\n",
    "123.555.1234\n",
    "123*555*1234\n",
    "\n",
    "Mr. Schafer\n",
    "Mr Smith\n",
    "Ms. Davis\n",
    "Mrs. Robinson\n",
    "Mr. T\n",
    "\n",
    "'''"
   ]
  },
  {
   "cell_type": "code",
   "execution_count": 33,
   "metadata": {},
   "outputs": [
    {
     "name": "stdout",
     "output_type": "stream",
     "text": [
      "<re.Match object; span=(155, 167), match='321-555-4321'>\n",
      "<re.Match object; span=(168, 180), match='123.555.1234'>\n"
     ]
    }
   ],
   "source": [
    "# Re-define pattern for re.compile() to match only phone numbers in updated \"text_to_search\" string with '-' or '.'\n",
    "### INSERT CODE HERE ###\n",
    "pattern = re.compile(r'\\d\\d\\d[-.]\\d\\d\\d[-.]\\d\\d\\d\\d')\n",
    "\n",
    "# Search text_to_search for the pattern using finditer() and save value(s) in matches \n",
    "### INSERT CODE HERE ###\n",
    "matches = pattern.finditer(text_to_search)\n",
    "\n",
    "# Print all the matches\n",
    "### INSERT CODE HERE ###\n",
    "for match in matches:\n",
    "    print(match)"
   ]
  },
  {
   "cell_type": "markdown",
   "metadata": {},
   "source": [
    "__Matching Phone Numbers__ only if they are 800 | 900 numbers"
   ]
  },
  {
   "cell_type": "code",
   "execution_count": 34,
   "metadata": {},
   "outputs": [
    {
     "name": "stdout",
     "output_type": "stream",
     "text": [
      "<re.Match object; span=(102, 114), match='800-555-5669'>\n",
      "1\n",
      "<re.Match object; span=(281, 293), match='900-555-9340'>\n",
      "2\n",
      "<re.Match object; span=(467, 479), match='800-555-6771'>\n",
      "3\n",
      "<re.Match object; span=(1091, 1103), match='900-555-3205'>\n",
      "4\n",
      "<re.Match object; span=(1439, 1451), match='800-555-6089'>\n",
      "5\n",
      "<re.Match object; span=(1790, 1802), match='800-555-7100'>\n",
      "6\n",
      "<re.Match object; span=(2051, 2063), match='900-555-5118'>\n",
      "7\n",
      "<re.Match object; span=(2826, 2838), match='900-555-5428'>\n",
      "8\n",
      "<re.Match object; span=(3284, 3296), match='800-555-8810'>\n",
      "9\n",
      "<re.Match object; span=(3971, 3983), match='900-555-9598'>\n",
      "10\n",
      "<re.Match object; span=(4945, 4957), match='800-555-2420'>\n",
      "11\n",
      "<re.Match object; span=(5566, 5578), match='900-555-3567'>\n",
      "12\n",
      "<re.Match object; span=(6189, 6201), match='800-555-3216'>\n",
      "13\n",
      "<re.Match object; span=(6889, 6901), match='900-555-7755'>\n",
      "14\n",
      "<re.Match object; span=(7864, 7876), match='800-555-1372'>\n",
      "15\n",
      "<re.Match object; span=(8741, 8753), match='900-555-6426'>\n",
      "16\n"
     ]
    }
   ],
   "source": [
    "# Re-define pattern for re.compile() to match only 800 & 900 phone numbers in the \"data.txt\" file\n",
    "### INSERT CODE HERE ###\n",
    "pattern = re.compile(r'[89]00[-.]\\d\\d\\d[-.]\\d\\d\\d\\d')\n",
    "\n",
    "# Open and read the contents of the \"data.txt\" file, search for only 800 & 900 phone numbers,\n",
    "# and print the matches. \n",
    "# NOTE: You might want to count the number of matches \n",
    "\n",
    "### INSERT CODE HERE ###\n",
    "with open('data.txt', 'r') as f:\n",
    "          contents = f.read()\n",
    "          \n",
    "          matches = pattern.finditer(contents)\n",
    "        \n",
    "          count = 0  \n",
    "          for match in matches:\n",
    "            print(match)\n",
    "            count+=1\n",
    "            print(count)"
   ]
  },
  {
   "cell_type": "markdown",
   "metadata": {},
   "source": [
    "<font color='blue'> <strong>QUESTION 5: </strong> - How many 800/900 phone numbers were found? <strong>HINT:</strong> Add a counter to print loop above to make this easier :-) </font>"
   ]
  },
  {
   "cell_type": "markdown",
   "metadata": {},
   "source": [
    "<font color='red'> <strong>ANSWER 5: </strong> ### INSERT ANSWERS HERE ### </font>\n",
    "\n",
    "16"
   ]
  },
  {
   "cell_type": "markdown",
   "metadata": {},
   "source": [
    "__Matching specific characters__ while excluding others"
   ]
  },
  {
   "cell_type": "code",
   "execution_count": 35,
   "metadata": {},
   "outputs": [],
   "source": [
    "# Character strings (UPDATED WITH JUST 3-CHAR WORDS)\n",
    "text_to_search = '''\n",
    "cat\n",
    "mat\n",
    "pat\n",
    "bat\n",
    "\n",
    "'''"
   ]
  },
  {
   "cell_type": "code",
   "execution_count": 36,
   "metadata": {},
   "outputs": [
    {
     "name": "stdout",
     "output_type": "stream",
     "text": [
      "<re.Match object; span=(1, 4), match='cat'>\n",
      "<re.Match object; span=(5, 8), match='mat'>\n",
      "<re.Match object; span=(9, 12), match='pat'>\n"
     ]
    }
   ],
   "source": [
    "# Re-define pattern for re.compile() to match only 3-char words that end in 'at' EXCEPT \"bat\"\n",
    "### INSERT CODE HERE ###\n",
    "pattern = re.compile(r'[^b]at')\n",
    "\n",
    "# Search text_to_search for the pattern using finditer() and save value(s) in matches \n",
    "### INSERT CODE HERE ###\n",
    "matches = pattern.finditer(text_to_search)\n",
    "\n",
    "# Print all the matches\n",
    "### INSERT CODE HERE ###\n",
    "for match in matches:\n",
    "    print(match)"
   ]
  },
  {
   "cell_type": "markdown",
   "metadata": {},
   "source": [
    "__Using Quantifiers__ ..."
   ]
  },
  {
   "cell_type": "code",
   "execution_count": 37,
   "metadata": {},
   "outputs": [],
   "source": [
    "# Character strings (UPDATED JUST NAMES)\n",
    "text_to_search = '''\n",
    "\n",
    "Mr. Schafer\n",
    "Mr Smith\n",
    "Ms. Davis\n",
    "Mrs. Robinson\n",
    "Mr. T\n",
    "\n",
    "'''"
   ]
  },
  {
   "cell_type": "code",
   "execution_count": 42,
   "metadata": {},
   "outputs": [
    {
     "name": "stdout",
     "output_type": "stream",
     "text": [
      "<re.Match object; span=(2, 13), match='Mr. Schafer'>\n",
      "<re.Match object; span=(14, 22), match='Mr Smith'>\n",
      "<re.Match object; span=(47, 52), match='Mr. T'>\n"
     ]
    }
   ],
   "source": [
    "# Re-define pattern for re.compile() to match upper-case 'M' followed by 'r' followed by 0 or 1 '.'\n",
    "# followed by an Uppercase letter followed by 0 or more characters\n",
    "### INSERT CODE HERE ###\n",
    "pattern = re.compile(r'Mr\\.?\\s[A-Z]\\w*')\n",
    "\n",
    "# Search text_to_search for the pattern using finditer() and save value(s) in matches \n",
    "### INSERT CODE HERE ###\n",
    "matches = pattern.finditer(text_to_search)\n",
    "\n",
    "# Print all the matches\n",
    "### INSERT CODE HERE ###\n",
    "for match in matches:\n",
    "    print(match)"
   ]
  },
  {
   "cell_type": "markdown",
   "metadata": {},
   "source": [
    "<font color='blue'> <strong>QUESTION 6: </strong> How many matches did you get? </font>"
   ]
  },
  {
   "cell_type": "markdown",
   "metadata": {},
   "source": [
    "<font color='red'> <strong>ANSWER 6: </strong>### INSERT ANSWERS HERE ###</font>\n",
    "\n",
    "3"
   ]
  },
  {
   "cell_type": "markdown",
   "metadata": {},
   "source": [
    "__Using Quantifiers and Groups__ ..."
   ]
  },
  {
   "cell_type": "code",
   "execution_count": 43,
   "metadata": {},
   "outputs": [
    {
     "name": "stdout",
     "output_type": "stream",
     "text": [
      "<re.Match object; span=(2, 13), match='Mr. Schafer'>\n",
      "<re.Match object; span=(14, 22), match='Mr Smith'>\n",
      "<re.Match object; span=(23, 32), match='Ms. Davis'>\n",
      "<re.Match object; span=(33, 46), match='Mrs. Robinson'>\n",
      "<re.Match object; span=(47, 52), match='Mr. T'>\n"
     ]
    }
   ],
   "source": [
    "# Re-define pattern for re.compile() to match ALL the names using Groups\n",
    "# Use either of the 2 groupings demonstrated in the video\n",
    "### INSERT CODE HERE ###\n",
    "pattern = re.compile(r'M(r|s|rs)\\.?\\s[A-Z]\\w*')\n",
    "\n",
    "# Search text_to_search for the pattern using finditer() and save value(s) in matches \n",
    "### INSERT CODE HERE ###\n",
    "matches = pattern.finditer(text_to_search)\n",
    "\n",
    "# Print all the matches\n",
    "### INSERT CODE HERE ###\n",
    "for match in matches:\n",
    "    print(match)"
   ]
  },
  {
   "cell_type": "markdown",
   "metadata": {},
   "source": [
    "## Part B - Putting it all together (4 points)"
   ]
  },
  {
   "cell_type": "markdown",
   "metadata": {},
   "source": [
    "__Matching email addresses__ ..."
   ]
  },
  {
   "cell_type": "code",
   "execution_count": 45,
   "metadata": {},
   "outputs": [],
   "source": [
    "# Emails used for upcoming example\n",
    "emails = '''\n",
    "CoreyMSchafer@gmail.com\n",
    "corey.schafer@university.edu\n",
    "corey-321-schafer@my-work.net\n",
    "'''"
   ]
  },
  {
   "cell_type": "code",
   "execution_count": 48,
   "metadata": {},
   "outputs": [
    {
     "name": "stdout",
     "output_type": "stream",
     "text": [
      "<re.Match object; span=(1, 24), match='CoreyMSchafer@gmail.com'>\n",
      "<re.Match object; span=(25, 53), match='corey.schafer@university.edu'>\n",
      "<re.Match object; span=(54, 83), match='corey-321-schafer@my-work.net'>\n"
     ]
    }
   ],
   "source": [
    "# Re-define pattern for re.compile() to match ALL the emails\n",
    "# Follow the instructions provided in the video ending with the pattern that uses a group\n",
    "# Remember to change finditer() to use the correct text string\n",
    "### INSERT CODE HERE ###\n",
    "pattern = re.compile(r'[a-zA-Z0-9.-]+@[a-zA-Z-]+\\.(com|edu|net)')\n",
    "\n",
    "# Search text_to_search for the pattern using finditer() and save value(s) in matches \n",
    "### INSERT CODE HERE ###\n",
    "matches = pattern.finditer(emails)\n",
    "\n",
    "# Print all the matches\n",
    "### INSERT CODE HERE ###\n",
    "for match in matches:\n",
    "    print(match)"
   ]
  },
  {
   "cell_type": "markdown",
   "metadata": {},
   "source": [
    "<font color='blue'> <strong>QUESTION 7: </strong> What were the 3 text strings in the group? </font>"
   ]
  },
  {
   "cell_type": "markdown",
   "metadata": {},
   "source": [
    "<font color='red'> <strong>ANSWER 7: </strong>### INSERT ANSWERS HERE ###</font>\n",
    "\n",
    "the three emails \n",
    "* CoreyMSchafer@gmail.com\n",
    "* corey.schafer@university.edu\n",
    "* corey-321-schafer@my-work.net"
   ]
  },
  {
   "cell_type": "markdown",
   "metadata": {},
   "source": [
    "## Part C - How to capture information from Groups (8 points)"
   ]
  },
  {
   "cell_type": "markdown",
   "metadata": {},
   "source": [
    "__Matching URLs__ using groups ..."
   ]
  },
  {
   "cell_type": "code",
   "execution_count": 49,
   "metadata": {},
   "outputs": [],
   "source": [
    "# URLs used for upcoming example\n",
    "urls = '''\n",
    "https://www.google.com\n",
    "http://coreyms.com\n",
    "https://youtube.com\n",
    "https://www.nasa.gov\n",
    "'''"
   ]
  },
  {
   "cell_type": "code",
   "execution_count": 55,
   "metadata": {},
   "outputs": [
    {
     "name": "stdout",
     "output_type": "stream",
     "text": [
      "https://www.google.com\n",
      "http://coreyms.com\n",
      "https://youtube.com\n",
      "https://www.nasa.gov\n"
     ]
    }
   ],
   "source": [
    "# Re-define pattern for re.compile() to match ALL the URLs using Groups\n",
    "# Follow the instructions provided in the video\n",
    "# Remember to change finditer() to use the correct text string\n",
    "### INSERT CODE HERE ###\n",
    "pattern = re.compile(r'https?://(www\\.)?(\\w+)(\\.\\w+)')\n",
    "\n",
    "# Search text_to_search for the pattern using finditer() and save value(s) in matches \n",
    "### INSERT CODE HERE ###\n",
    "matches = pattern.finditer(urls)\n",
    "\n",
    "# Print all the matches\n",
    "### INSERT CODE HERE ###\n",
    "for match in matches:\n",
    "    print(match.group(0))"
   ]
  },
  {
   "cell_type": "markdown",
   "metadata": {},
   "source": [
    "<font color='blue'> <strong>QUESTION 8: </strong> What is the returned value when a group has no match? </font>"
   ]
  },
  {
   "cell_type": "markdown",
   "metadata": {},
   "source": [
    "<font color='red'> <strong>ANSWER 8: </strong>### INSERT ANSWERS HERE ###</font>\n",
    "\n",
    "None"
   ]
  },
  {
   "cell_type": "markdown",
   "metadata": {},
   "source": [
    "__Using Substitution__ ...\n",
    "\n",
    "Return the string obtained by replacing the leftmost non-overlapping occurrences of pattern in string by the replacement repl. If the pattern isn’t found, string is returned unchanged. repl can be a string or a function; if it is a string, any backslash escapes in it are processed. That is, \\n is converted to a single newline character, \\r is converted to a carriage return, and so forth. Unknown escapes of ASCII letters are reserved for future use and treated as errors. Other unknown escapes such as \\& are left alone. Backreferences, such as \\6, are replaced with the substring matched by group 6 in the pattern. "
   ]
  },
  {
   "cell_type": "code",
   "execution_count": 56,
   "metadata": {},
   "outputs": [
    {
     "name": "stdout",
     "output_type": "stream",
     "text": [
      "\n",
      "google.com\n",
      "coreyms.com\n",
      "youtube.com\n",
      "nasa.gov\n",
      "\n"
     ]
    }
   ],
   "source": [
    "# Using the pattern from above, use the 'sub' capability \n",
    "### INSERT CODE HERE ###\n",
    "subbed_urls = pattern.sub(r'\\2\\3', urls)\n",
    "\n",
    "# Create new URls containing only the domain name & top level domain\n",
    "### INSERT CODE HERE ###\n",
    "\n",
    "# Print the new URLs\n",
    "### INSERT CODE HERE ###\n",
    "print(subbed_urls)"
   ]
  },
  {
   "cell_type": "markdown",
   "metadata": {},
   "source": [
    "## Part D - Other methods  (16 points)"
   ]
  },
  {
   "cell_type": "markdown",
   "metadata": {},
   "source": [
    "__findall__\n",
    "\n",
    "Return all non-overlapping matches of pattern in string, as a list of strings. The string is scanned left-to-right, and matches are returned in the order found. If one or more groups are present in the pattern, return a list of groups; this will be a list of tuples if the pattern has more than one group. Empty matches are included in the result."
   ]
  },
  {
   "cell_type": "code",
   "execution_count": 58,
   "metadata": {},
   "outputs": [
    {
     "name": "stdout",
     "output_type": "stream",
     "text": [
      "('www.', 'google', '.com')\n",
      "('', 'coreyms', '.com')\n",
      "('', 'youtube', '.com')\n",
      "('www.', 'nasa', '.gov')\n"
     ]
    }
   ],
   "source": [
    "# IMPORTANT: THIS DEVIATES FROM THE VIDEO ... BUT IT THINK IT IS WORTH SEEING\n",
    "\n",
    "# Using the previous pattern with 3 groups ...\n",
    "### INSERT CODE HERE ###\n",
    "pattern = re.compile(r'https?://(www\\.)?(\\w+)(\\.\\w+)')\n",
    "\n",
    "# Use findall(urls) get the groups \n",
    "### INSERT CODE HERE ###\n",
    "matches = pattern.findall(urls)\n",
    "\n",
    "# Print matches\n",
    "### INSERT CODE HERE ###\n",
    "for match in matches:\n",
    "    print(match)"
   ]
  },
  {
   "cell_type": "markdown",
   "metadata": {},
   "source": [
    "<font color='blue'> <strong>QUESTION 9: </strong> Because there were groups in the pattern, what Python datatype was returned in the results list? </font>"
   ]
  },
  {
   "cell_type": "markdown",
   "metadata": {},
   "source": [
    "<font color='red'> <strong>ANSWER 9: </strong>### INSERT ANSWERS HERE ###</font>\n",
    "\n",
    "tuple"
   ]
  },
  {
   "cell_type": "markdown",
   "metadata": {},
   "source": [
    "__match__\n",
    "\n",
    "If zero or more characters at the beginning of string match this regular expression, return a corresponding match object. Return None if the string does not match the pattern; note that this is different from a zero-length match."
   ]
  },
  {
   "cell_type": "code",
   "execution_count": 59,
   "metadata": {},
   "outputs": [
    {
     "name": "stdout",
     "output_type": "stream",
     "text": [
      "<re.Match object; span=(0, 5), match='Start'>\n"
     ]
    }
   ],
   "source": [
    "# Using the sentence variable (redefined here for clarity)\n",
    "sentence = 'Start a sentence and then bring it to an end'\n",
    "\n",
    "# Re-define pattern for re.compile() to search for 'Start'\n",
    "### INSERT CODE HERE ###\n",
    "pattern = re.compile(r'Start')\n",
    "                     \n",
    "# Use the match method to search pattern    \n",
    "### INSERT CODE HERE ###\n",
    "matches = pattern.match(sentence)\n",
    "\n",
    "# Print the result\n",
    "### INSERT CODE HERE ###\n",
    "print(matches)"
   ]
  },
  {
   "cell_type": "markdown",
   "metadata": {},
   "source": [
    "__search__\n",
    "\n",
    "Scan through string looking for the first location where this regular expression produces a match, and return a corresponding match object. Return None if no position in the string matches the pattern; note that this is different from finding a zero-length match at some point in the string."
   ]
  },
  {
   "cell_type": "code",
   "execution_count": 60,
   "metadata": {},
   "outputs": [
    {
     "name": "stdout",
     "output_type": "stream",
     "text": [
      "<re.Match object; span=(0, 5), match='Start'>\n"
     ]
    }
   ],
   "source": [
    "# Using the sentence variable (redefined here for clarity)\n",
    "sentence = 'Start a sentence and then bring it to an end'\n",
    "\n",
    "# Re-define pattern for re.compile() to search for 'sentence'\n",
    "### INSERT CODE HERE ###\n",
    "pattern = re.compile(r'Start')\n",
    "                     \n",
    "# Use the search method to search pattern    \n",
    "### INSERT CODE HERE ###\n",
    "matches = pattern.search(sentence)\n",
    "\n",
    "# Print the result\n",
    "### INSERT CODE HERE ###\n",
    "print(matches)"
   ]
  },
  {
   "cell_type": "markdown",
   "metadata": {},
   "source": [
    "__Option Flags__ \n",
    "\n",
    "Many Python Regex Functions and Regex Methods take a optional argument called “flags”. The flags modifies the meaning of the given regex pattern. To specify more than one of them, use | operator to connect them. For example, re.search(pattern,string,flags=re.IGNORECASE|re.MULTILINE|re.UNICODE).\n",
    "\n",
    "![List of Flags](RegExOptionFlags.jpg)\n",
    "\n",
    "[Ref: http://xahlee.info/python/python_regex_flags.html ]"
   ]
  },
  {
   "cell_type": "code",
   "execution_count": 62,
   "metadata": {},
   "outputs": [
    {
     "name": "stdout",
     "output_type": "stream",
     "text": [
      "<re.Match object; span=(0, 5), match='Start'>\n"
     ]
    }
   ],
   "source": [
    "# Using the sentence variable (redefined here for clarity)\n",
    "sentence = 'Start a sentence and then bring it to an end'\n",
    "\n",
    "# Re-define pattern for re.compile() to search for 'start' while ignoring case\n",
    "### INSERT CODE HERE ###\n",
    "pattern = re.compile(r'start', re.I)\n",
    "                     \n",
    "# Use the search method to search pattern    \n",
    "### INSERT CODE HERE ###\n",
    "matches = pattern.search(sentence)\n",
    "\n",
    "# Print the result\n",
    "### INSERT CODE HERE ###\n",
    "print(matches)"
   ]
  },
  {
   "cell_type": "markdown",
   "metadata": {},
   "source": [
    "<font color='blue'> <strong>QUESTION 10: </strong> According to the Regex Flags table above, what flag could be used to match a newline? </font>"
   ]
  },
  {
   "cell_type": "markdown",
   "metadata": {},
   "source": [
    "<font color='red'> <strong>ANSWER 10: </strong>### INSERT ANSWERS HERE ###</font>\n",
    "\n",
    "re.M"
   ]
  },
  {
   "cell_type": "code",
   "execution_count": 63,
   "metadata": {},
   "outputs": [
    {
     "name": "stdout",
     "output_type": "stream",
     "text": [
      "<re.Match object; span=(6, 8), match='la'>\n",
      "<re.Match object; span=(11, 13), match='la'>\n"
     ]
    }
   ],
   "source": [
    "text_to_search = 'trala lafa lala'  \n",
    "pattern = re.compile(r'\\bla')    \n",
    "matches = pattern.finditer(text_to_search)    \n",
    "\n",
    "for match in matches:\n",
    "    print(match)\n"
   ]
  },
  {
   "cell_type": "code",
   "execution_count": 64,
   "metadata": {},
   "outputs": [
    {
     "name": "stdout",
     "output_type": "stream",
     "text": [
      "<re.Match object; span=(2, 14), match='800-700-1234'>\n",
      "<re.Match object; span=(30, 42), match='900-600-1234'>\n"
     ]
    }
   ],
   "source": [
    "text_to_search = '''  800-700-1234  800-100-1234  900-600-1234  900-900-1234  '''  \n",
    "\n",
    "pattern = re.compile(r'[89]00[-.][67]00[-.]\\d\\d\\d\\d')    \n",
    "matches = pattern.finditer(text_to_search)    \n",
    "for match in matches:      \n",
    "    print(match)\n"
   ]
  },
  {
   "cell_type": "code",
   "execution_count": 65,
   "metadata": {},
   "outputs": [
    {
     "name": "stdout",
     "output_type": "stream",
     "text": [
      "<re.Match object; span=(4, 7), match=' am'>\n",
      "<re.Match object; span=(8, 11), match='Sam'>\n",
      "<re.Match object; span=(13, 16), match='Sam'>\n",
      "<re.Match object; span=(18, 21), match=' am'>\n",
      "<re.Match object; span=(29, 32), match='Sam'>\n",
      "<re.Match object; span=(46, 49), match='Sam'>\n",
      "<re.Match object; span=(79, 82), match='Sam'>\n",
      "<re.Match object; span=(147, 150), match='Sam'>\n"
     ]
    }
   ],
   "source": [
    "text_to_search = '''  \n",
    "I am Sam  Sam I am  \n",
    "That Sam-I-am!  \n",
    "Than Sam-I-am!  \n",
    "I do not like  \n",
    "that Sam-I-am!    \n",
    "Do you like green eggs and ham?  \n",
    "I do not like them, Sam-I-am.  \n",
    "I do not like green eggs and ham.    \n",
    "'''    \n",
    "pattern = re.compile(r'[^h-]am')    \n",
    "matches = pattern.finditer(text_to_search)    \n",
    "for match in matches:      \n",
    "    print(match)\n"
   ]
  },
  {
   "cell_type": "code",
   "execution_count": 67,
   "metadata": {},
   "outputs": [
    {
     "name": "stdout",
     "output_type": "stream",
     "text": [
      "waketech\n",
      "google\n",
      "coreyms\n",
      "youtube\n",
      "nasa\n"
     ]
    }
   ],
   "source": [
    "url = '''  \n",
    "http://waketech.edu  \n",
    "https://www.google.com  \n",
    "http://coreyms.com  \n",
    "https://youtube.com  \n",
    "https://www.nasa.gov  \n",
    "'''  \n",
    "pattern = re.compile(r'https?://(www\\.)?(\\w+)(\\.\\w+)')  \n",
    "matches = pattern.finditer(url)  \n",
    "for match in matches:      \n",
    "    print(match.group(2))\n"
   ]
  },
  {
   "cell_type": "code",
   "execution_count": null,
   "metadata": {},
   "outputs": [],
   "source": []
  }
 ],
 "metadata": {
  "kernelspec": {
   "display_name": "Python 3",
   "language": "python",
   "name": "python3"
  },
  "language_info": {
   "codemirror_mode": {
    "name": "ipython",
    "version": 3
   },
   "file_extension": ".py",
   "mimetype": "text/x-python",
   "name": "python",
   "nbconvert_exporter": "python",
   "pygments_lexer": "ipython3",
   "version": "3.8.5"
  }
 },
 "nbformat": 4,
 "nbformat_minor": 4
}
